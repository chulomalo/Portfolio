{
 "cells": [
  {
   "cell_type": "markdown",
   "id": "b30fc30c",
   "metadata": {},
   "source": [
    "# Naive Bayes Spam Detection\n",
    "\n",
    "This notebook walks us through building a spam detection system using the Naive Bayes algorithm. By the end, we will see how the algorithm works with a real-world dataset to classify emails as spam or not.\n",
    "\n",
    "\n",
    "## Exercise Statement: SPAM Detection\n",
    "\n",
    "We propose the construction of a machine learning system capable of predicting whether a given email corresponds to **SPAM** or not. For this, the following dataset will be used:\n",
    "\n",
    "#### [2007 TREC Public Spam Corpus](https://plg.uwaterloo.ca/cgi-bin/cgiwrap/gvcormac/foo07)\n",
    "The trec07p corpus contains 75,419 messages:\n",
    "\n",
    "- 25,220 ham\n",
    "- 50,199 spam\n",
    "\n",
    "These messages constitute all the messages delivered to a particular server between these dates:\n",
    "\n",
    "- Sun, 8 Apr 2007 13:07:21 -0400\n",
    "- Fri, 6 Jul 2007 07:04:53 -0400\n",
    "\n",
    "If the previous link doesn’t work, please try accessing the dataset [here](https://drive.google.com/file/d/1kFA669INPYyYYUFA8Kqd7GStbHksQLJS/view?usp=drive_link).\n",
    "\n",
    "\n",
    "## 1. Preprocessing Emails and Auxiliary Functions\n",
    "\n",
    "Spam detection requires some heavy lifting when it comes to cleaning up data. Emails can be messy—think HTML tags, special characters, and extra text that doesn't help with classification. \n",
    "\n",
    "HTML Stripper: This function removes any HTML tags, leaving us with just the text content.\n",
    "Parser Class: This class does most of the work:\n",
    "It decodes email subjects and bodies\n",
    "It tokenizes (splits text into words), removes punctuation, and applies stemming (converting words to their base form)."
   ]
  },
  {
   "cell_type": "code",
   "execution_count": 76,
   "id": "4c3e16df",
   "metadata": {},
   "outputs": [],
   "source": [
    "\n",
    "# This class facilitates preprocessing emails that contain HTML code\n",
    "from html import unescape\n",
    "from html.parser import HTMLParser\n",
    "\n",
    "class HTMLStripper(HTMLParser):\n",
    "    def __init__(self):\n",
    "        super().__init__(convert_charrefs=True)\n",
    "        self.fed = []\n",
    "\n",
    "    def handle_data(self, d):\n",
    "        self.fed.append(d)\n",
    "\n",
    "    def get_data(self):\n",
    "        return ''.join(self.fed)\n",
    "\n"
   ]
  },
  {
   "cell_type": "code",
   "execution_count": 77,
   "id": "6eb9cf3c",
   "metadata": {},
   "outputs": [],
   "source": [
    "# This function removes HTML tags found in the email text\n",
    "def strip_tags(html):\n",
    "    s = HTMLStripper()\n",
    "    s.feed(html)\n",
    "    return s.get_data()\n"
   ]
  },
  {
   "cell_type": "code",
   "execution_count": 78,
   "id": "4741556a",
   "metadata": {},
   "outputs": [
    {
     "name": "stdout",
     "output_type": "stream",
     "text": [
      "Phrack World News\n"
     ]
    }
   ],
   "source": [
    "# Example of removing HTML tags from text\n",
    "t = '<tr><td align=\"left\"><a href=\"../../issues/51/16.html#article\">Phrack World News</a></td>'\n",
    "print(strip_tags(t))\n"
   ]
  },
  {
   "cell_type": "markdown",
   "id": "e2caa9b0",
   "metadata": {},
   "source": [
    "Besides removing possible HTML tags found in the email, other preprocessing actions need to be performed\n",
    "to avoid unnecessary noise in the messages. Among them is the removal of punctuation marks,\n",
    "removal of possible irrelevant email fields, or removal of word affixes keeping only the root of the word (Stemming).\n",
    "The class shown below performs these transformations."
   ]
  },
  {
   "cell_type": "code",
   "execution_count": 79,
   "id": "1979f224",
   "metadata": {},
   "outputs": [],
   "source": [
    "import os\n",
    "import email\n",
    "import string\n",
    "import nltk\n",
    "from nltk.stem import PorterStemmer\n",
    "from nltk.corpus import stopwords\n",
    "from email.header import decode_header\n",
    "\n",
    "class Parser:\n",
    "\n",
    "    def __init__(self):\n",
    "        self.stemmer = PorterStemmer()\n",
    "        nltk.download('stopwords', quiet=True)\n",
    "        self.stopwords = set(stopwords.words('english'))\n",
    "        self.punctuation = set(string.punctuation)\n",
    "\n",
    "    def parse(self, email_path):\n",
    "        \"\"\"Parse an email.\"\"\"\n",
    "        with open(email_path, 'rb') as e:\n",
    "            msg = email.message_from_binary_file(e)\n",
    "        return self.get_email_content(msg)\n",
    "\n",
    "    def get_email_content(self, msg):\n",
    "        \"\"\"Extract the email content.\"\"\"\n",
    "        subject = self.get_subject(msg)\n",
    "        body = self.get_email_body(msg)\n",
    "        return {\"subject\": subject,\n",
    "                \"body\": body,\n",
    "                \"content_type\": msg.get_content_type()}\n",
    "\n",
    "    def get_subject(self, msg):\n",
    "        \"\"\"Decode the email subject.\"\"\"\n",
    "        if msg['Subject']:\n",
    "            decoded_header = decode_header(msg['Subject'])\n",
    "            subject = ''\n",
    "            for part, encoding in decoded_header:\n",
    "                if isinstance(part, bytes):\n",
    "                    if not encoding or encoding.lower() in ['unknown-8bit', 'unknown', 'x-unknown']:\n",
    "                        encoding = 'utf-8'\n",
    "                    try:\n",
    "                        part = part.decode(encoding, errors='ignore')\n",
    "                    except (LookupError, UnicodeDecodeError):\n",
    "                        # Fallback encodings\n",
    "                        for enc in ['utf-8', 'latin1', 'ascii']:\n",
    "                            try:\n",
    "                                part = part.decode(enc, errors='ignore')\n",
    "                                break\n",
    "                            except UnicodeDecodeError:\n",
    "                                continue\n",
    "                elif isinstance(part, str):\n",
    "                    pass  # part is already a string\n",
    "                subject += part\n",
    "            return self.tokenize(subject)\n",
    "        else:\n",
    "            return []\n",
    "\n",
    "    def get_email_body(self, msg):\n",
    "        \"\"\"Extract the body of the email.\"\"\"\n",
    "        body = []\n",
    "        if msg.is_multipart():\n",
    "            for part in msg.get_payload():\n",
    "                body += self.get_email_body(part)\n",
    "        else:\n",
    "            content_type = msg.get_content_type()\n",
    "            payload = msg.get_payload(decode=True)\n",
    "            if payload:\n",
    "                charset = msg.get_content_charset()\n",
    "                # Handle unknown or problematic charsets\n",
    "                if not charset or charset.lower() in ['unknown-8bit', 'unknown', 'x-unknown']:\n",
    "                    charset = 'utf-8'\n",
    "                try:\n",
    "                    payload = payload.decode(charset, errors='ignore')\n",
    "                except (LookupError, UnicodeDecodeError):\n",
    "                    # Fallback encodings\n",
    "                    for enc in ['utf-8', 'latin1', 'ascii']:\n",
    "                        try:\n",
    "                            payload = payload.decode(enc, errors='ignore')\n",
    "                            break\n",
    "                        except UnicodeDecodeError:\n",
    "                            continue\n",
    "                if content_type == 'text/plain':\n",
    "                    body += self.tokenize(payload)\n",
    "                elif content_type == 'text/html':\n",
    "                    body += self.tokenize(strip_tags(payload))\n",
    "        return body\n",
    "\n",
    "    def tokenize(self, text):\n",
    "        \"\"\"Transform a text string into tokens.\"\"\"\n",
    "        text = text.lower()\n",
    "        for c in self.punctuation:\n",
    "            text = text.replace(c, \"\")\n",
    "        tokens = text.split()\n",
    "        tokens = [w for w in tokens if w not in self.stopwords]\n",
    "        return [self.stemmer.stem(w) for w in tokens]\n"
   ]
  },
  {
   "cell_type": "code",
   "execution_count": 80,
   "id": "171278b6",
   "metadata": {},
   "outputs": [
    {
     "name": "stdout",
     "output_type": "stream",
     "text": [
      "['spam ../data/inmail.1\\n', 'ham ../data/inmail.2\\n', 'spam ../data/inmail.3\\n', 'spam ../data/inmail.4\\n', 'spam ../data/inmail.5\\n']\n"
     ]
    }
   ],
   "source": [
    "# Set the dataset path\n",
    "DATASET_PATH = \"datasets/trec07p\"\n",
    "\n",
    "# Read the index\n",
    "index_path = os.path.join(DATASET_PATH, 'full', 'index')\n",
    "with open(index_path, 'r') as f:\n",
    "    index = f.readlines()\n",
    "print(index[:5])  # Print first 5 entries\n"
   ]
  },
  {
   "cell_type": "code",
   "execution_count": 81,
   "id": "f6a66655",
   "metadata": {},
   "outputs": [],
   "source": [
    "def parse_index(path_to_index, n_elements):\n",
    "    ret_indexes = []\n",
    "    with open(path_to_index, 'r') as f:\n",
    "        index = f.readlines()\n",
    "    for i in range(n_elements):\n",
    "        mail = index[i].split(\" ../\")\n",
    "        label = mail[0]\n",
    "        path = mail[1].strip()\n",
    "        path_mail = os.path.basename(path)\n",
    "        ret_indexes.append({\"label\": label, \"email_path\": os.path.join(DATASET_PATH, 'data', path_mail)})\n",
    "    return ret_indexes\n"
   ]
  },
  {
   "cell_type": "code",
   "execution_count": 82,
   "id": "500e295b",
   "metadata": {},
   "outputs": [],
   "source": [
    "def parse_email(index):\n",
    "    p = Parser()\n",
    "    pmail = p.parse(index[\"email_path\"])\n",
    "    return pmail, index[\"label\"]\n"
   ]
  },
  {
   "cell_type": "code",
   "execution_count": 83,
   "id": "1982e0bc",
   "metadata": {},
   "outputs": [
    {
     "name": "stdout",
     "output_type": "stream",
     "text": [
      "The email is labeled as: spam\n",
      "Parsed content:\n",
      "{'subject': ['gener', 'ciali', 'brand', 'qualiti'], 'body': ['feel', 'pressur', 'perform', 'rise', 'occas', 'tri', 'viagra', 'anxieti', 'thing', 'past', 'back', 'old', 'self'], 'content_type': 'multipart/alternative'}\n"
     ]
    }
   ],
   "source": [
    "# Parse the first email\n",
    "indexes = parse_index(index_path, 1)\n",
    "mail, label = parse_email(indexes[0])\n",
    "print(\"The email is labeled as:\", label)\n",
    "print(\"Parsed content:\")\n",
    "print(mail)\n"
   ]
  },
  {
   "cell_type": "code",
   "execution_count": 84,
   "id": "04407102",
   "metadata": {},
   "outputs": [
    {
     "name": "stdout",
     "output_type": "stream",
     "text": [
      "[{'label': 'spam', 'email_path': '/Users/sergioperez/Desktop/datasets/trec07p/data/inmail.1'}, {'label': 'ham', 'email_path': '/Users/sergioperez/Desktop/datasets/trec07p/data/inmail.2'}, {'label': 'spam', 'email_path': '/Users/sergioperez/Desktop/datasets/trec07p/data/inmail.3'}, {'label': 'spam', 'email_path': '/Users/sergioperez/Desktop/datasets/trec07p/data/inmail.4'}, {'label': 'spam', 'email_path': '/Users/sergioperez/Desktop/datasets/trec07p/data/inmail.5'}, {'label': 'spam', 'email_path': '/Users/sergioperez/Desktop/datasets/trec07p/data/inmail.6'}, {'label': 'spam', 'email_path': '/Users/sergioperez/Desktop/datasets/trec07p/data/inmail.7'}, {'label': 'spam', 'email_path': '/Users/sergioperez/Desktop/datasets/trec07p/data/inmail.8'}, {'label': 'spam', 'email_path': '/Users/sergioperez/Desktop/datasets/trec07p/data/inmail.9'}, {'label': 'ham', 'email_path': '/Users/sergioperez/Desktop/datasets/trec07p/data/inmail.10'}]\n"
     ]
    }
   ],
   "source": [
    "# Load the index and labels into memory\n",
    "indexes = parse_index(index_path, 10)\n",
    "print(indexes)\n"
   ]
  },
  {
   "cell_type": "code",
   "execution_count": 85,
   "id": "b1eb09b5",
   "metadata": {},
   "outputs": [
    {
     "name": "stdout",
     "output_type": "stream",
     "text": [
      "The email is labeled as: spam\n",
      "Parsed content:\n",
      "{'subject': ['gener', 'ciali', 'brand', 'qualiti'], 'body': ['feel', 'pressur', 'perform', 'rise', 'occas', 'tri', 'viagra', 'anxieti', 'thing', 'past', 'back', 'old', 'self'], 'content_type': 'multipart/alternative'}\n"
     ]
    }
   ],
   "source": [
    "# Parse the first email\n",
    "mail, label = parse_email(indexes[0])\n",
    "print(\"The email is labeled as:\", label)\n",
    "print(\"Parsed content:\")\n",
    "print(mail)\n"
   ]
  },
  {
   "cell_type": "markdown",
   "id": "4dc2f339",
   "metadata": {},
   "source": [
    "## 2. Preprocessing the Dataset\n",
    "With the functions presented earlier, we can read the emails programmatically and process them to remove components that are not useful for SPAM detection. However, each email is still represented as a Python dictionary with a series of words.\n",
    "Naive Bayes doesn’t work directly with text; it needs numbers. To convert our cleaned-up email text into something the algorithm can process, we use CountVectorizer. It turns each word into a feature we can use to classify emails."
   ]
  },
  {
   "cell_type": "code",
   "execution_count": 86,
   "id": "fa70c1bc",
   "metadata": {},
   "outputs": [
    {
     "name": "stdout",
     "output_type": "stream",
     "text": [
      "Features:\n",
      " ['anxieti' 'back' 'brand' 'ciali' 'feel' 'gener' 'occas' 'old' 'past'\n",
      " 'perform' 'pressur' 'qualiti' 'rise' 'self' 'thing' 'tri' 'viagra']\n",
      "\n",
      "Values:\n",
      " [[1 1 1 1 1 1 1 1 1 1 1 1 1 1 1 1 1]]\n"
     ]
    }
   ],
   "source": [
    "from sklearn.feature_extraction.text import CountVectorizer\n",
    "\n",
    "# Prepare the email into a single text string\n",
    "prep_email = [\" \".join(mail['subject']) + \" \" + \" \".join(mail['body'])]\n",
    "\n",
    "vectorizer = CountVectorizer()\n",
    "X = vectorizer.fit_transform(prep_email)\n",
    "\n",
    "print(\"Features:\\n\", vectorizer.get_feature_names_out())\n",
    "print(\"\\nValues:\\n\", X.toarray())\n"
   ]
  },
  {
   "cell_type": "code",
   "execution_count": 87,
   "id": "e3237e7c",
   "metadata": {},
   "outputs": [
    {
     "name": "stdout",
     "output_type": "stream",
     "text": [
      "Features:\n",
      " ['x0_anxieti' 'x0_back' 'x0_brand' 'x0_ciali' 'x0_feel' 'x0_gener'\n",
      " 'x0_occas' 'x0_old' 'x0_past' 'x0_perform' 'x0_pressur' 'x0_qualiti'\n",
      " 'x0_rise' 'x0_self' 'x0_thing' 'x0_tri' 'x0_viagra']\n",
      "\n",
      "Values:\n",
      " [[0. 0. 0. 0. 0. 1. 0. 0. 0. 0. 0. 0. 0. 0. 0. 0. 0.]\n",
      " [0. 0. 0. 1. 0. 0. 0. 0. 0. 0. 0. 0. 0. 0. 0. 0. 0.]\n",
      " [0. 0. 1. 0. 0. 0. 0. 0. 0. 0. 0. 0. 0. 0. 0. 0. 0.]\n",
      " [0. 0. 0. 0. 0. 0. 0. 0. 0. 0. 0. 1. 0. 0. 0. 0. 0.]\n",
      " [0. 0. 0. 0. 1. 0. 0. 0. 0. 0. 0. 0. 0. 0. 0. 0. 0.]\n",
      " [0. 0. 0. 0. 0. 0. 0. 0. 0. 0. 1. 0. 0. 0. 0. 0. 0.]\n",
      " [0. 0. 0. 0. 0. 0. 0. 0. 0. 1. 0. 0. 0. 0. 0. 0. 0.]\n",
      " [0. 0. 0. 0. 0. 0. 0. 0. 0. 0. 0. 0. 1. 0. 0. 0. 0.]\n",
      " [0. 0. 0. 0. 0. 0. 1. 0. 0. 0. 0. 0. 0. 0. 0. 0. 0.]\n",
      " [0. 0. 0. 0. 0. 0. 0. 0. 0. 0. 0. 0. 0. 0. 0. 1. 0.]\n",
      " [0. 0. 0. 0. 0. 0. 0. 0. 0. 0. 0. 0. 0. 0. 0. 0. 1.]\n",
      " [1. 0. 0. 0. 0. 0. 0. 0. 0. 0. 0. 0. 0. 0. 0. 0. 0.]\n",
      " [0. 0. 0. 0. 0. 0. 0. 0. 0. 0. 0. 0. 0. 0. 1. 0. 0.]\n",
      " [0. 0. 0. 0. 0. 0. 0. 0. 1. 0. 0. 0. 0. 0. 0. 0. 0.]\n",
      " [0. 1. 0. 0. 0. 0. 0. 0. 0. 0. 0. 0. 0. 0. 0. 0. 0.]\n",
      " [0. 0. 0. 0. 0. 0. 0. 1. 0. 0. 0. 0. 0. 0. 0. 0. 0.]\n",
      " [0. 0. 0. 0. 0. 0. 0. 0. 0. 0. 0. 0. 0. 1. 0. 0. 0.]]\n"
     ]
    }
   ],
   "source": [
    "from sklearn.preprocessing import OneHotEncoder\n",
    "\n",
    "prep_email_tokens = [[w] for w in mail['subject'] + mail['body']]\n",
    "\n",
    "enc = OneHotEncoder(handle_unknown='ignore')\n",
    "X_enc = enc.fit_transform(prep_email_tokens)\n",
    "\n",
    "print(\"Features:\\n\", enc.get_feature_names_out())\n",
    "print(\"\\nValues:\\n\", X_enc.toarray())\n"
   ]
  },
  {
   "cell_type": "code",
   "execution_count": 88,
   "id": "3200523e",
   "metadata": {},
   "outputs": [],
   "source": [
    "def create_prep_dataset(index_path, n_elements):\n",
    "    X = []\n",
    "    y = []\n",
    "    indexes = parse_index(index_path, n_elements)\n",
    "    for i in range(n_elements):\n",
    "        print(\"\\rParsing email: {0}/{1}\".format(i+1, n_elements), end='')\n",
    "        email_path = indexes[i]['email_path']\n",
    "        if not os.path.exists(email_path):\n",
    "            print(f\"\\nWarning: Email file not found: {email_path}\")\n",
    "            continue  # Skip to the next email\n",
    "        try:\n",
    "            mail, label = parse_email(indexes[i])\n",
    "            X.append(\" \".join(mail['subject']) + \" \" + \" \".join(mail['body']))\n",
    "            y.append(label)\n",
    "        except Exception as e:\n",
    "            print(f\"\\nError parsing email {email_path}: {e}\")\n",
    "            continue  # Skip to the next email\n",
    "    print()\n",
    "    return X, y\n",
    "\n"
   ]
  },
  {
   "cell_type": "markdown",
   "id": "99f84956",
   "metadata": {},
   "source": [
    "## 3. Training the Algorithm\n",
    "\n",
    "Now, with our data vectorized, it’s time to train a Naive Bayes classifier. This is where the model learns from the training data to classify new emails."
   ]
  },
  {
   "cell_type": "code",
   "execution_count": 89,
   "id": "0502b029",
   "metadata": {},
   "outputs": [
    {
     "name": "stdout",
     "output_type": "stream",
     "text": [
      "Parsing email: 100/100\n"
     ]
    }
   ],
   "source": [
    "# Create the training dataset\n",
    "X_train, y_train = create_prep_dataset(index_path, 100)\n",
    "\n"
   ]
  },
  {
   "cell_type": "code",
   "execution_count": 90,
   "id": "75f4136f",
   "metadata": {},
   "outputs": [],
   "source": [
    "# Apply vectorization to the data\n",
    "vectorizer = CountVectorizer()\n",
    "X_train = vectorizer.fit_transform(X_train)\n"
   ]
  },
  {
   "cell_type": "code",
   "execution_count": 91,
   "id": "79d1a49d",
   "metadata": {},
   "outputs": [
    {
     "name": "stdout",
     "output_type": "stream",
     "text": [
      "[[0 0 0 ... 0 0 0]\n",
      " [0 0 0 ... 0 0 0]\n",
      " [0 0 0 ... 0 0 0]\n",
      " ...\n",
      " [0 0 0 ... 0 0 0]\n",
      " [0 0 0 ... 0 0 0]\n",
      " [0 0 0 ... 0 0 0]]\n",
      "\n",
      "Number of Features: 4353\n"
     ]
    }
   ],
   "source": [
    "print(X_train.toarray())\n",
    "print(\"\\nNumber of Features:\", len(vectorizer.get_feature_names_out()))\n",
    "\n"
   ]
  },
  {
   "cell_type": "code",
   "execution_count": 92,
   "id": "4fe0d25a",
   "metadata": {},
   "outputs": [
    {
     "data": {
      "text/html": [
       "<div>\n",
       "<style scoped>\n",
       "    .dataframe tbody tr th:only-of-type {\n",
       "        vertical-align: middle;\n",
       "    }\n",
       "\n",
       "    .dataframe tbody tr th {\n",
       "        vertical-align: top;\n",
       "    }\n",
       "\n",
       "    .dataframe thead th {\n",
       "        text-align: right;\n",
       "    }\n",
       "</style>\n",
       "<table border=\"1\" class=\"dataframe\">\n",
       "  <thead>\n",
       "    <tr style=\"text-align: right;\">\n",
       "      <th></th>\n",
       "      <th>0000</th>\n",
       "      <th>000000</th>\n",
       "      <th>00085</th>\n",
       "      <th>002</th>\n",
       "      <th>003</th>\n",
       "      <th>00450</th>\n",
       "      <th>009</th>\n",
       "      <th>01</th>\n",
       "      <th>01000u</th>\n",
       "      <th>0107</th>\n",
       "      <th>...</th>\n",
       "      <th>茾āasȃłi</th>\n",
       "      <th>蓬勃发展</th>\n",
       "      <th>规范</th>\n",
       "      <th>诚信</th>\n",
       "      <th>贵公司生意兴隆</th>\n",
       "      <th>运输</th>\n",
       "      <th>还与国内多家企业</th>\n",
       "      <th>郑重承诺</th>\n",
       "      <th>集团</th>\n",
       "      <th>饻jwk</th>\n",
       "    </tr>\n",
       "  </thead>\n",
       "  <tbody>\n",
       "    <tr>\n",
       "      <th>0</th>\n",
       "      <td>0</td>\n",
       "      <td>0</td>\n",
       "      <td>0</td>\n",
       "      <td>0</td>\n",
       "      <td>0</td>\n",
       "      <td>0</td>\n",
       "      <td>0</td>\n",
       "      <td>0</td>\n",
       "      <td>0</td>\n",
       "      <td>0</td>\n",
       "      <td>...</td>\n",
       "      <td>0</td>\n",
       "      <td>0</td>\n",
       "      <td>0</td>\n",
       "      <td>0</td>\n",
       "      <td>0</td>\n",
       "      <td>0</td>\n",
       "      <td>0</td>\n",
       "      <td>0</td>\n",
       "      <td>0</td>\n",
       "      <td>0</td>\n",
       "    </tr>\n",
       "    <tr>\n",
       "      <th>1</th>\n",
       "      <td>0</td>\n",
       "      <td>0</td>\n",
       "      <td>0</td>\n",
       "      <td>0</td>\n",
       "      <td>0</td>\n",
       "      <td>0</td>\n",
       "      <td>0</td>\n",
       "      <td>0</td>\n",
       "      <td>0</td>\n",
       "      <td>0</td>\n",
       "      <td>...</td>\n",
       "      <td>0</td>\n",
       "      <td>0</td>\n",
       "      <td>0</td>\n",
       "      <td>0</td>\n",
       "      <td>0</td>\n",
       "      <td>0</td>\n",
       "      <td>0</td>\n",
       "      <td>0</td>\n",
       "      <td>0</td>\n",
       "      <td>0</td>\n",
       "    </tr>\n",
       "    <tr>\n",
       "      <th>2</th>\n",
       "      <td>0</td>\n",
       "      <td>0</td>\n",
       "      <td>0</td>\n",
       "      <td>0</td>\n",
       "      <td>0</td>\n",
       "      <td>0</td>\n",
       "      <td>0</td>\n",
       "      <td>0</td>\n",
       "      <td>0</td>\n",
       "      <td>0</td>\n",
       "      <td>...</td>\n",
       "      <td>0</td>\n",
       "      <td>0</td>\n",
       "      <td>0</td>\n",
       "      <td>0</td>\n",
       "      <td>0</td>\n",
       "      <td>0</td>\n",
       "      <td>0</td>\n",
       "      <td>0</td>\n",
       "      <td>0</td>\n",
       "      <td>0</td>\n",
       "    </tr>\n",
       "    <tr>\n",
       "      <th>3</th>\n",
       "      <td>0</td>\n",
       "      <td>0</td>\n",
       "      <td>0</td>\n",
       "      <td>0</td>\n",
       "      <td>0</td>\n",
       "      <td>0</td>\n",
       "      <td>0</td>\n",
       "      <td>0</td>\n",
       "      <td>0</td>\n",
       "      <td>0</td>\n",
       "      <td>...</td>\n",
       "      <td>0</td>\n",
       "      <td>0</td>\n",
       "      <td>0</td>\n",
       "      <td>0</td>\n",
       "      <td>0</td>\n",
       "      <td>0</td>\n",
       "      <td>0</td>\n",
       "      <td>0</td>\n",
       "      <td>0</td>\n",
       "      <td>0</td>\n",
       "    </tr>\n",
       "    <tr>\n",
       "      <th>4</th>\n",
       "      <td>0</td>\n",
       "      <td>0</td>\n",
       "      <td>0</td>\n",
       "      <td>0</td>\n",
       "      <td>0</td>\n",
       "      <td>0</td>\n",
       "      <td>0</td>\n",
       "      <td>0</td>\n",
       "      <td>0</td>\n",
       "      <td>0</td>\n",
       "      <td>...</td>\n",
       "      <td>0</td>\n",
       "      <td>0</td>\n",
       "      <td>0</td>\n",
       "      <td>0</td>\n",
       "      <td>0</td>\n",
       "      <td>0</td>\n",
       "      <td>0</td>\n",
       "      <td>0</td>\n",
       "      <td>0</td>\n",
       "      <td>0</td>\n",
       "    </tr>\n",
       "    <tr>\n",
       "      <th>...</th>\n",
       "      <td>...</td>\n",
       "      <td>...</td>\n",
       "      <td>...</td>\n",
       "      <td>...</td>\n",
       "      <td>...</td>\n",
       "      <td>...</td>\n",
       "      <td>...</td>\n",
       "      <td>...</td>\n",
       "      <td>...</td>\n",
       "      <td>...</td>\n",
       "      <td>...</td>\n",
       "      <td>...</td>\n",
       "      <td>...</td>\n",
       "      <td>...</td>\n",
       "      <td>...</td>\n",
       "      <td>...</td>\n",
       "      <td>...</td>\n",
       "      <td>...</td>\n",
       "      <td>...</td>\n",
       "      <td>...</td>\n",
       "      <td>...</td>\n",
       "    </tr>\n",
       "    <tr>\n",
       "      <th>95</th>\n",
       "      <td>0</td>\n",
       "      <td>0</td>\n",
       "      <td>0</td>\n",
       "      <td>0</td>\n",
       "      <td>0</td>\n",
       "      <td>0</td>\n",
       "      <td>0</td>\n",
       "      <td>0</td>\n",
       "      <td>0</td>\n",
       "      <td>0</td>\n",
       "      <td>...</td>\n",
       "      <td>0</td>\n",
       "      <td>0</td>\n",
       "      <td>0</td>\n",
       "      <td>0</td>\n",
       "      <td>0</td>\n",
       "      <td>0</td>\n",
       "      <td>0</td>\n",
       "      <td>0</td>\n",
       "      <td>0</td>\n",
       "      <td>0</td>\n",
       "    </tr>\n",
       "    <tr>\n",
       "      <th>96</th>\n",
       "      <td>0</td>\n",
       "      <td>0</td>\n",
       "      <td>0</td>\n",
       "      <td>0</td>\n",
       "      <td>0</td>\n",
       "      <td>0</td>\n",
       "      <td>0</td>\n",
       "      <td>0</td>\n",
       "      <td>0</td>\n",
       "      <td>0</td>\n",
       "      <td>...</td>\n",
       "      <td>0</td>\n",
       "      <td>0</td>\n",
       "      <td>0</td>\n",
       "      <td>0</td>\n",
       "      <td>0</td>\n",
       "      <td>0</td>\n",
       "      <td>0</td>\n",
       "      <td>0</td>\n",
       "      <td>0</td>\n",
       "      <td>0</td>\n",
       "    </tr>\n",
       "    <tr>\n",
       "      <th>97</th>\n",
       "      <td>0</td>\n",
       "      <td>0</td>\n",
       "      <td>0</td>\n",
       "      <td>0</td>\n",
       "      <td>0</td>\n",
       "      <td>0</td>\n",
       "      <td>0</td>\n",
       "      <td>0</td>\n",
       "      <td>0</td>\n",
       "      <td>0</td>\n",
       "      <td>...</td>\n",
       "      <td>0</td>\n",
       "      <td>0</td>\n",
       "      <td>0</td>\n",
       "      <td>0</td>\n",
       "      <td>0</td>\n",
       "      <td>0</td>\n",
       "      <td>0</td>\n",
       "      <td>0</td>\n",
       "      <td>0</td>\n",
       "      <td>0</td>\n",
       "    </tr>\n",
       "    <tr>\n",
       "      <th>98</th>\n",
       "      <td>0</td>\n",
       "      <td>0</td>\n",
       "      <td>0</td>\n",
       "      <td>0</td>\n",
       "      <td>0</td>\n",
       "      <td>0</td>\n",
       "      <td>0</td>\n",
       "      <td>0</td>\n",
       "      <td>0</td>\n",
       "      <td>0</td>\n",
       "      <td>...</td>\n",
       "      <td>0</td>\n",
       "      <td>0</td>\n",
       "      <td>0</td>\n",
       "      <td>0</td>\n",
       "      <td>0</td>\n",
       "      <td>0</td>\n",
       "      <td>0</td>\n",
       "      <td>0</td>\n",
       "      <td>0</td>\n",
       "      <td>0</td>\n",
       "    </tr>\n",
       "    <tr>\n",
       "      <th>99</th>\n",
       "      <td>0</td>\n",
       "      <td>0</td>\n",
       "      <td>0</td>\n",
       "      <td>0</td>\n",
       "      <td>0</td>\n",
       "      <td>0</td>\n",
       "      <td>0</td>\n",
       "      <td>0</td>\n",
       "      <td>0</td>\n",
       "      <td>0</td>\n",
       "      <td>...</td>\n",
       "      <td>0</td>\n",
       "      <td>0</td>\n",
       "      <td>0</td>\n",
       "      <td>0</td>\n",
       "      <td>0</td>\n",
       "      <td>0</td>\n",
       "      <td>0</td>\n",
       "      <td>0</td>\n",
       "      <td>0</td>\n",
       "      <td>0</td>\n",
       "    </tr>\n",
       "  </tbody>\n",
       "</table>\n",
       "<p>100 rows × 4353 columns</p>\n",
       "</div>"
      ],
      "text/plain": [
       "    0000  000000  00085  002  003  00450  009  01  01000u  0107  ...  茾āasȃłi  \\\n",
       "0      0       0      0    0    0      0    0   0       0     0  ...        0   \n",
       "1      0       0      0    0    0      0    0   0       0     0  ...        0   \n",
       "2      0       0      0    0    0      0    0   0       0     0  ...        0   \n",
       "3      0       0      0    0    0      0    0   0       0     0  ...        0   \n",
       "4      0       0      0    0    0      0    0   0       0     0  ...        0   \n",
       "..   ...     ...    ...  ...  ...    ...  ...  ..     ...   ...  ...      ...   \n",
       "95     0       0      0    0    0      0    0   0       0     0  ...        0   \n",
       "96     0       0      0    0    0      0    0   0       0     0  ...        0   \n",
       "97     0       0      0    0    0      0    0   0       0     0  ...        0   \n",
       "98     0       0      0    0    0      0    0   0       0     0  ...        0   \n",
       "99     0       0      0    0    0      0    0   0       0     0  ...        0   \n",
       "\n",
       "    蓬勃发展  规范  诚信  贵公司生意兴隆  运输  还与国内多家企业  郑重承诺  集团  饻jwk  \n",
       "0      0   0   0        0   0         0     0   0     0  \n",
       "1      0   0   0        0   0         0     0   0     0  \n",
       "2      0   0   0        0   0         0     0   0     0  \n",
       "3      0   0   0        0   0         0     0   0     0  \n",
       "4      0   0   0        0   0         0     0   0     0  \n",
       "..   ...  ..  ..      ...  ..       ...   ...  ..   ...  \n",
       "95     0   0   0        0   0         0     0   0     0  \n",
       "96     0   0   0        0   0         0     0   0     0  \n",
       "97     0   0   0        0   0         0     0   0     0  \n",
       "98     0   0   0        0   0         0     0   0     0  \n",
       "99     0   0   0        0   0         0     0   0     0  \n",
       "\n",
       "[100 rows x 4353 columns]"
      ]
     },
     "execution_count": 92,
     "metadata": {},
     "output_type": "execute_result"
    }
   ],
   "source": [
    "import pandas as pd\n",
    "\n",
    "pd.DataFrame(X_train.toarray(), columns=vectorizer.get_feature_names_out())\n"
   ]
  },
  {
   "cell_type": "code",
   "execution_count": 93,
   "id": "bfab63ec",
   "metadata": {},
   "outputs": [
    {
     "data": {
      "text/plain": [
       "['spam',\n",
       " 'ham',\n",
       " 'spam',\n",
       " 'spam',\n",
       " 'spam',\n",
       " 'spam',\n",
       " 'spam',\n",
       " 'spam',\n",
       " 'spam',\n",
       " 'ham',\n",
       " 'spam',\n",
       " 'spam',\n",
       " 'spam',\n",
       " 'spam',\n",
       " 'spam',\n",
       " 'spam',\n",
       " 'spam',\n",
       " 'spam',\n",
       " 'spam',\n",
       " 'ham',\n",
       " 'ham',\n",
       " 'spam',\n",
       " 'spam',\n",
       " 'spam',\n",
       " 'spam',\n",
       " 'spam',\n",
       " 'spam',\n",
       " 'spam',\n",
       " 'ham',\n",
       " 'spam',\n",
       " 'ham',\n",
       " 'spam',\n",
       " 'spam',\n",
       " 'ham',\n",
       " 'spam',\n",
       " 'spam',\n",
       " 'spam',\n",
       " 'spam',\n",
       " 'spam',\n",
       " 'spam',\n",
       " 'spam',\n",
       " 'spam',\n",
       " 'spam',\n",
       " 'spam',\n",
       " 'spam',\n",
       " 'spam',\n",
       " 'spam',\n",
       " 'spam',\n",
       " 'ham',\n",
       " 'ham',\n",
       " 'spam',\n",
       " 'spam',\n",
       " 'spam',\n",
       " 'spam',\n",
       " 'spam',\n",
       " 'spam',\n",
       " 'ham',\n",
       " 'spam',\n",
       " 'ham',\n",
       " 'spam',\n",
       " 'spam',\n",
       " 'ham',\n",
       " 'spam',\n",
       " 'spam',\n",
       " 'spam',\n",
       " 'ham',\n",
       " 'ham',\n",
       " 'spam',\n",
       " 'spam',\n",
       " 'spam',\n",
       " 'ham',\n",
       " 'ham',\n",
       " 'ham',\n",
       " 'spam',\n",
       " 'ham',\n",
       " 'spam',\n",
       " 'ham',\n",
       " 'spam',\n",
       " 'spam',\n",
       " 'spam',\n",
       " 'ham',\n",
       " 'spam',\n",
       " 'spam',\n",
       " 'ham',\n",
       " 'spam',\n",
       " 'ham',\n",
       " 'spam',\n",
       " 'spam',\n",
       " 'ham',\n",
       " 'spam',\n",
       " 'spam',\n",
       " 'spam',\n",
       " 'spam',\n",
       " 'spam',\n",
       " 'spam',\n",
       " 'spam',\n",
       " 'spam',\n",
       " 'spam',\n",
       " 'spam',\n",
       " 'spam']"
      ]
     },
     "execution_count": 93,
     "metadata": {},
     "output_type": "execute_result"
    }
   ],
   "source": [
    "y_train\n"
   ]
  },
  {
   "cell_type": "code",
   "execution_count": 94,
   "id": "6115d1d7",
   "metadata": {},
   "outputs": [
    {
     "data": {
      "text/html": [
       "<style>#sk-container-id-5 {color: black;}#sk-container-id-5 pre{padding: 0;}#sk-container-id-5 div.sk-toggleable {background-color: white;}#sk-container-id-5 label.sk-toggleable__label {cursor: pointer;display: block;width: 100%;margin-bottom: 0;padding: 0.3em;box-sizing: border-box;text-align: center;}#sk-container-id-5 label.sk-toggleable__label-arrow:before {content: \"▸\";float: left;margin-right: 0.25em;color: #696969;}#sk-container-id-5 label.sk-toggleable__label-arrow:hover:before {color: black;}#sk-container-id-5 div.sk-estimator:hover label.sk-toggleable__label-arrow:before {color: black;}#sk-container-id-5 div.sk-toggleable__content {max-height: 0;max-width: 0;overflow: hidden;text-align: left;background-color: #f0f8ff;}#sk-container-id-5 div.sk-toggleable__content pre {margin: 0.2em;color: black;border-radius: 0.25em;background-color: #f0f8ff;}#sk-container-id-5 input.sk-toggleable__control:checked~div.sk-toggleable__content {max-height: 200px;max-width: 100%;overflow: auto;}#sk-container-id-5 input.sk-toggleable__control:checked~label.sk-toggleable__label-arrow:before {content: \"▾\";}#sk-container-id-5 div.sk-estimator input.sk-toggleable__control:checked~label.sk-toggleable__label {background-color: #d4ebff;}#sk-container-id-5 div.sk-label input.sk-toggleable__control:checked~label.sk-toggleable__label {background-color: #d4ebff;}#sk-container-id-5 input.sk-hidden--visually {border: 0;clip: rect(1px 1px 1px 1px);clip: rect(1px, 1px, 1px, 1px);height: 1px;margin: -1px;overflow: hidden;padding: 0;position: absolute;width: 1px;}#sk-container-id-5 div.sk-estimator {font-family: monospace;background-color: #f0f8ff;border: 1px dotted black;border-radius: 0.25em;box-sizing: border-box;margin-bottom: 0.5em;}#sk-container-id-5 div.sk-estimator:hover {background-color: #d4ebff;}#sk-container-id-5 div.sk-parallel-item::after {content: \"\";width: 100%;border-bottom: 1px solid gray;flex-grow: 1;}#sk-container-id-5 div.sk-label:hover label.sk-toggleable__label {background-color: #d4ebff;}#sk-container-id-5 div.sk-serial::before {content: \"\";position: absolute;border-left: 1px solid gray;box-sizing: border-box;top: 0;bottom: 0;left: 50%;z-index: 0;}#sk-container-id-5 div.sk-serial {display: flex;flex-direction: column;align-items: center;background-color: white;padding-right: 0.2em;padding-left: 0.2em;position: relative;}#sk-container-id-5 div.sk-item {position: relative;z-index: 1;}#sk-container-id-5 div.sk-parallel {display: flex;align-items: stretch;justify-content: center;background-color: white;position: relative;}#sk-container-id-5 div.sk-item::before, #sk-container-id-5 div.sk-parallel-item::before {content: \"\";position: absolute;border-left: 1px solid gray;box-sizing: border-box;top: 0;bottom: 0;left: 50%;z-index: -1;}#sk-container-id-5 div.sk-parallel-item {display: flex;flex-direction: column;z-index: 1;position: relative;background-color: white;}#sk-container-id-5 div.sk-parallel-item:first-child::after {align-self: flex-end;width: 50%;}#sk-container-id-5 div.sk-parallel-item:last-child::after {align-self: flex-start;width: 50%;}#sk-container-id-5 div.sk-parallel-item:only-child::after {width: 0;}#sk-container-id-5 div.sk-dashed-wrapped {border: 1px dashed gray;margin: 0 0.4em 0.5em 0.4em;box-sizing: border-box;padding-bottom: 0.4em;background-color: white;}#sk-container-id-5 div.sk-label label {font-family: monospace;font-weight: bold;display: inline-block;line-height: 1.2em;}#sk-container-id-5 div.sk-label-container {text-align: center;}#sk-container-id-5 div.sk-container {/* jupyter's `normalize.less` sets `[hidden] { display: none; }` but bootstrap.min.css set `[hidden] { display: none !important; }` so we also need the `!important` here to be able to override the default hidden behavior on the sphinx rendered scikit-learn.org. See: https://github.com/scikit-learn/scikit-learn/issues/21755 */display: inline-block !important;position: relative;}#sk-container-id-5 div.sk-text-repr-fallback {display: none;}</style><div id=\"sk-container-id-5\" class=\"sk-top-container\"><div class=\"sk-text-repr-fallback\"><pre>BernoulliNB(alpha=1e-10)</pre><b>In a Jupyter environment, please rerun this cell to show the HTML representation or trust the notebook. <br />On GitHub, the HTML representation is unable to render, please try loading this page with nbviewer.org.</b></div><div class=\"sk-container\" hidden><div class=\"sk-item\"><div class=\"sk-estimator sk-toggleable\"><input class=\"sk-toggleable__control sk-hidden--visually\" id=\"sk-estimator-id-5\" type=\"checkbox\" checked><label for=\"sk-estimator-id-5\" class=\"sk-toggleable__label sk-toggleable__label-arrow\">BernoulliNB</label><div class=\"sk-toggleable__content\"><pre>BernoulliNB(alpha=1e-10)</pre></div></div></div></div></div>"
      ],
      "text/plain": [
       "BernoulliNB(alpha=1e-10)"
      ]
     },
     "execution_count": 94,
     "metadata": {},
     "output_type": "execute_result"
    }
   ],
   "source": [
    "from sklearn.naive_bayes import BernoulliNB\n",
    "\n",
    "nb_clf = BernoulliNB(alpha=1.0e-10)\n",
    "nb_clf.fit(X_train, y_train)\n"
   ]
  },
  {
   "cell_type": "markdown",
   "id": "341623ba",
   "metadata": {},
   "source": [
    "We set the alpha parameter here, which is a smoothing factor. It helps the classifier handle words it hasn’t seen before by preventing zero probabilities."
   ]
  },
  {
   "cell_type": "markdown",
   "id": "0615f058",
   "metadata": {},
   "source": [
    "## 4. Prediction\n",
    "\n",
    "With our trained model, let’s make some predictions and see how well it performs. We use F1 score for evaluation because it balances precision and recall, which is essential in spam detection."
   ]
  },
  {
   "cell_type": "code",
   "execution_count": 95,
   "id": "65612d29",
   "metadata": {},
   "outputs": [
    {
     "name": "stdout",
     "output_type": "stream",
     "text": [
      "Parsing email: 500/500\n"
     ]
    }
   ],
   "source": [
    "# Read a new set of emails\n",
    "X_all, y_all = create_prep_dataset(index_path, 500)\n",
    "X_test = X_all[100:]\n",
    "y_test = y_all[100:]\n"
   ]
  },
  {
   "cell_type": "code",
   "execution_count": 96,
   "id": "00eb1a55",
   "metadata": {},
   "outputs": [
    {
     "name": "stdout",
     "output_type": "stream",
     "text": [
      "Predictions:\n",
      " ['spam' 'spam' 'spam' 'spam' 'spam' 'spam' 'spam' 'spam' 'spam' 'spam'\n",
      " 'spam' 'spam' 'spam' 'spam' 'spam' 'spam' 'spam' 'spam' 'spam' 'spam'\n",
      " 'spam' 'spam' 'spam' 'spam' 'spam' 'spam' 'ham' 'spam' 'spam' 'spam'\n",
      " 'spam' 'spam' 'spam' 'spam' 'spam' 'spam' 'spam' 'spam' 'spam' 'spam'\n",
      " 'spam' 'spam' 'spam' 'spam' 'spam' 'spam' 'spam' 'spam' 'spam' 'spam'\n",
      " 'spam' 'ham' 'spam' 'spam' 'spam' 'spam' 'spam' 'spam' 'spam' 'spam'\n",
      " 'ham' 'spam' 'spam' 'ham' 'ham' 'spam' 'spam' 'ham' 'spam' 'spam' 'spam'\n",
      " 'spam' 'spam' 'spam' 'spam' 'spam' 'spam' 'spam' 'spam' 'spam' 'spam'\n",
      " 'spam' 'spam' 'spam' 'spam' 'spam' 'spam' 'spam' 'spam' 'spam' 'spam'\n",
      " 'spam' 'spam' 'spam' 'spam' 'spam' 'spam' 'spam' 'spam' 'spam' 'spam'\n",
      " 'spam' 'spam' 'spam' 'spam' 'spam' 'ham' 'spam' 'spam' 'spam' 'spam'\n",
      " 'spam' 'spam' 'spam' 'spam' 'spam' 'ham' 'spam' 'spam' 'spam' 'spam'\n",
      " 'spam' 'spam' 'spam' 'spam' 'spam' 'spam' 'spam' 'spam' 'spam' 'spam'\n",
      " 'spam' 'spam' 'spam' 'ham' 'ham' 'spam' 'ham' 'spam' 'spam' 'spam' 'spam'\n",
      " 'spam' 'spam' 'spam' 'spam' 'ham' 'ham' 'spam' 'spam' 'spam' 'spam'\n",
      " 'spam' 'spam' 'spam' 'spam' 'spam' 'spam' 'spam' 'spam' 'ham' 'spam'\n",
      " 'ham' 'spam' 'spam' 'spam' 'spam' 'spam' 'spam' 'spam' 'spam' 'ham'\n",
      " 'spam' 'spam' 'spam' 'spam' 'spam' 'spam' 'spam' 'spam' 'spam' 'ham'\n",
      " 'ham' 'spam' 'spam' 'spam' 'spam' 'spam' 'spam' 'spam' 'spam' 'spam'\n",
      " 'spam' 'ham' 'spam' 'spam' 'spam' 'ham' 'ham' 'spam' 'spam' 'ham' 'ham'\n",
      " 'spam' 'spam' 'spam' 'spam' 'spam' 'spam' 'spam' 'ham' 'spam' 'ham' 'ham'\n",
      " 'spam' 'spam' 'spam' 'spam' 'spam' 'spam' 'spam' 'spam' 'spam' 'spam'\n",
      " 'spam' 'spam' 'spam' 'spam' 'spam' 'spam' 'spam' 'spam' 'spam' 'spam'\n",
      " 'spam' 'spam' 'spam' 'spam' 'spam' 'spam' 'ham' 'spam' 'spam' 'spam'\n",
      " 'spam' 'spam' 'spam' 'spam' 'spam' 'spam' 'ham' 'spam' 'spam' 'spam'\n",
      " 'spam' 'ham' 'spam' 'spam' 'spam' 'spam' 'spam' 'spam' 'spam' 'spam'\n",
      " 'spam' 'spam' 'spam' 'spam' 'spam' 'spam' 'spam' 'spam' 'spam' 'spam'\n",
      " 'spam' 'spam' 'spam' 'spam' 'spam' 'ham' 'spam' 'spam' 'spam' 'spam'\n",
      " 'spam' 'spam' 'spam' 'spam' 'spam' 'spam' 'spam' 'spam' 'ham' 'ham'\n",
      " 'spam' 'spam' 'spam' 'spam' 'spam' 'spam' 'spam' 'spam' 'spam' 'ham'\n",
      " 'spam' 'spam' 'spam' 'spam' 'spam' 'spam' 'spam' 'spam' 'spam' 'spam'\n",
      " 'spam' 'spam' 'spam' 'spam' 'spam' 'spam' 'spam' 'spam' 'spam' 'spam'\n",
      " 'spam' 'spam' 'spam' 'spam' 'spam' 'spam' 'spam' 'spam' 'spam' 'spam'\n",
      " 'spam' 'spam' 'spam' 'spam' 'spam' 'spam' 'spam' 'spam' 'spam' 'spam'\n",
      " 'spam' 'spam' 'spam' 'spam' 'spam' 'spam' 'spam' 'spam' 'spam' 'spam'\n",
      " 'spam' 'spam' 'spam' 'spam' 'spam' 'spam' 'spam' 'spam' 'spam' 'spam'\n",
      " 'spam' 'spam' 'spam' 'ham' 'spam' 'spam' 'spam' 'spam' 'spam' 'spam'\n",
      " 'spam' 'spam' 'spam' 'spam' 'spam' 'spam' 'spam' 'spam' 'ham' 'spam'\n",
      " 'ham' 'spam' 'spam' 'spam' 'spam' 'ham' 'spam' 'ham' 'spam' 'ham' 'spam'\n",
      " 'ham' 'spam' 'spam' 'ham' 'spam']\n",
      "\n",
      "Actual Labels:\n",
      " ['spam', 'spam', 'spam', 'spam', 'spam', 'spam', 'spam', 'spam', 'spam', 'spam', 'ham', 'spam', 'spam', 'spam', 'spam', 'spam', 'ham', 'spam', 'spam', 'spam', 'spam', 'spam', 'spam', 'ham', 'spam', 'spam', 'ham', 'spam', 'spam', 'ham', 'spam', 'spam', 'spam', 'spam', 'spam', 'spam', 'spam', 'spam', 'spam', 'spam', 'spam', 'spam', 'spam', 'spam', 'spam', 'spam', 'spam', 'spam', 'spam', 'spam', 'spam', 'ham', 'spam', 'spam', 'spam', 'spam', 'spam', 'spam', 'spam', 'spam', 'spam', 'spam', 'spam', 'ham', 'ham', 'spam', 'spam', 'ham', 'spam', 'spam', 'ham', 'spam', 'spam', 'spam', 'spam', 'spam', 'spam', 'spam', 'spam', 'spam', 'spam', 'spam', 'spam', 'spam', 'spam', 'spam', 'spam', 'spam', 'spam', 'spam', 'spam', 'spam', 'ham', 'spam', 'spam', 'spam', 'spam', 'spam', 'spam', 'spam', 'spam', 'spam', 'spam', 'spam', 'spam', 'spam', 'ham', 'spam', 'spam', 'spam', 'spam', 'spam', 'spam', 'spam', 'spam', 'spam', 'ham', 'spam', 'spam', 'spam', 'spam', 'spam', 'spam', 'spam', 'spam', 'spam', 'spam', 'spam', 'spam', 'spam', 'spam', 'spam', 'spam', 'spam', 'ham', 'ham', 'spam', 'ham', 'spam', 'spam', 'ham', 'spam', 'spam', 'spam', 'spam', 'spam', 'ham', 'ham', 'spam', 'spam', 'spam', 'spam', 'spam', 'spam', 'spam', 'spam', 'spam', 'spam', 'spam', 'spam', 'ham', 'spam', 'ham', 'spam', 'spam', 'spam', 'spam', 'spam', 'spam', 'spam', 'spam', 'ham', 'spam', 'spam', 'spam', 'spam', 'spam', 'spam', 'spam', 'spam', 'ham', 'ham', 'ham', 'spam', 'spam', 'spam', 'spam', 'spam', 'spam', 'spam', 'ham', 'spam', 'spam', 'ham', 'spam', 'spam', 'spam', 'ham', 'ham', 'spam', 'spam', 'ham', 'ham', 'spam', 'spam', 'spam', 'spam', 'spam', 'ham', 'spam', 'ham', 'spam', 'ham', 'ham', 'spam', 'spam', 'spam', 'spam', 'spam', 'spam', 'spam', 'spam', 'spam', 'spam', 'spam', 'spam', 'spam', 'spam', 'spam', 'spam', 'spam', 'ham', 'spam', 'spam', 'spam', 'spam', 'spam', 'spam', 'ham', 'spam', 'ham', 'spam', 'spam', 'spam', 'spam', 'ham', 'spam', 'spam', 'spam', 'spam', 'ham', 'ham', 'spam', 'spam', 'spam', 'ham', 'spam', 'spam', 'spam', 'spam', 'ham', 'spam', 'spam', 'spam', 'spam', 'spam', 'spam', 'spam', 'spam', 'spam', 'spam', 'spam', 'spam', 'spam', 'spam', 'spam', 'spam', 'spam', 'spam', 'spam', 'spam', 'spam', 'spam', 'spam', 'spam', 'spam', 'spam', 'spam', 'spam', 'spam', 'spam', 'spam', 'ham', 'ham', 'ham', 'spam', 'spam', 'spam', 'spam', 'spam', 'spam', 'ham', 'spam', 'spam', 'spam', 'spam', 'spam', 'spam', 'spam', 'spam', 'spam', 'spam', 'spam', 'spam', 'spam', 'spam', 'spam', 'spam', 'spam', 'spam', 'spam', 'spam', 'spam', 'spam', 'spam', 'spam', 'spam', 'spam', 'spam', 'spam', 'spam', 'spam', 'spam', 'spam', 'spam', 'spam', 'spam', 'spam', 'spam', 'spam', 'spam', 'spam', 'spam', 'spam', 'spam', 'spam', 'spam', 'spam', 'spam', 'spam', 'spam', 'ham', 'spam', 'spam', 'spam', 'spam', 'spam', 'spam', 'spam', 'spam', 'ham', 'ham', 'spam', 'ham', 'spam', 'spam', 'ham', 'ham', 'spam', 'spam', 'spam', 'spam', 'spam', 'ham', 'spam', 'spam', 'ham', 'ham', 'spam', 'spam', 'spam', 'spam', 'ham', 'spam', 'ham', 'spam', 'spam', 'spam', 'spam', 'ham', 'spam', 'ham', 'spam', 'ham', 'spam', 'ham', 'spam', 'spam', 'ham', 'spam']\n"
     ]
    }
   ],
   "source": [
    "# Preprocess the emails with the previously created vectorizer\n",
    "X_test = vectorizer.transform(X_test)\n",
    "\n",
    "# Predict the type of email\n",
    "y_pred = nb_clf.predict(X_test)\n",
    "\n",
    "print(\"Predictions:\\n\", y_pred)\n",
    "print(\"\\nActual Labels:\\n\", y_test)\n"
   ]
  },
  {
   "cell_type": "code",
   "execution_count": 97,
   "id": "f2223298",
   "metadata": {},
   "outputs": [
    {
     "name": "stdout",
     "output_type": "stream",
     "text": [
      "F1 score: 0.731\n"
     ]
    }
   ],
   "source": [
    "# Evaluate the results\n",
    "from sklearn.metrics import f1_score\n",
    "\n",
    "print('F1 score: {:.3f}'.format(f1_score(y_test, y_pred, pos_label='ham')))\n"
   ]
  },
  {
   "cell_type": "markdown",
   "id": "35a0e23a",
   "metadata": {},
   "source": [
    "## 5. Increasing the Dataset\n",
    "\n",
    "To improve our classifier, we load and train on a larger dataset. More data often means better accuracy since the model has more examples to learn from."
   ]
  },
  {
   "cell_type": "code",
   "execution_count": 98,
   "id": "a681d926",
   "metadata": {},
   "outputs": [
    {
     "name": "stdout",
     "output_type": "stream",
     "text": [
      "Parsing email: 22000/22000\n"
     ]
    }
   ],
   "source": [
    "# Load a larger dataset\n",
    "X_large, y_large = create_prep_dataset(index_path, 22000)\n"
   ]
  },
  {
   "cell_type": "code",
   "execution_count": 99,
   "id": "a6e97a06",
   "metadata": {},
   "outputs": [],
   "source": [
    "X_train_large, y_train_large = X_large[:20000], y_large[:20000]\n",
    "X_test_large, y_test_large = X_large[20000:], y_large[20000:]\n"
   ]
  },
  {
   "cell_type": "code",
   "execution_count": 100,
   "id": "da28ccd4",
   "metadata": {},
   "outputs": [],
   "source": [
    "vectorizer = CountVectorizer()\n",
    "X_train_large = vectorizer.fit_transform(X_train_large)\n"
   ]
  },
  {
   "cell_type": "code",
   "execution_count": 101,
   "id": "9c719b74",
   "metadata": {},
   "outputs": [
    {
     "data": {
      "text/html": [
       "<style>#sk-container-id-6 {color: black;}#sk-container-id-6 pre{padding: 0;}#sk-container-id-6 div.sk-toggleable {background-color: white;}#sk-container-id-6 label.sk-toggleable__label {cursor: pointer;display: block;width: 100%;margin-bottom: 0;padding: 0.3em;box-sizing: border-box;text-align: center;}#sk-container-id-6 label.sk-toggleable__label-arrow:before {content: \"▸\";float: left;margin-right: 0.25em;color: #696969;}#sk-container-id-6 label.sk-toggleable__label-arrow:hover:before {color: black;}#sk-container-id-6 div.sk-estimator:hover label.sk-toggleable__label-arrow:before {color: black;}#sk-container-id-6 div.sk-toggleable__content {max-height: 0;max-width: 0;overflow: hidden;text-align: left;background-color: #f0f8ff;}#sk-container-id-6 div.sk-toggleable__content pre {margin: 0.2em;color: black;border-radius: 0.25em;background-color: #f0f8ff;}#sk-container-id-6 input.sk-toggleable__control:checked~div.sk-toggleable__content {max-height: 200px;max-width: 100%;overflow: auto;}#sk-container-id-6 input.sk-toggleable__control:checked~label.sk-toggleable__label-arrow:before {content: \"▾\";}#sk-container-id-6 div.sk-estimator input.sk-toggleable__control:checked~label.sk-toggleable__label {background-color: #d4ebff;}#sk-container-id-6 div.sk-label input.sk-toggleable__control:checked~label.sk-toggleable__label {background-color: #d4ebff;}#sk-container-id-6 input.sk-hidden--visually {border: 0;clip: rect(1px 1px 1px 1px);clip: rect(1px, 1px, 1px, 1px);height: 1px;margin: -1px;overflow: hidden;padding: 0;position: absolute;width: 1px;}#sk-container-id-6 div.sk-estimator {font-family: monospace;background-color: #f0f8ff;border: 1px dotted black;border-radius: 0.25em;box-sizing: border-box;margin-bottom: 0.5em;}#sk-container-id-6 div.sk-estimator:hover {background-color: #d4ebff;}#sk-container-id-6 div.sk-parallel-item::after {content: \"\";width: 100%;border-bottom: 1px solid gray;flex-grow: 1;}#sk-container-id-6 div.sk-label:hover label.sk-toggleable__label {background-color: #d4ebff;}#sk-container-id-6 div.sk-serial::before {content: \"\";position: absolute;border-left: 1px solid gray;box-sizing: border-box;top: 0;bottom: 0;left: 50%;z-index: 0;}#sk-container-id-6 div.sk-serial {display: flex;flex-direction: column;align-items: center;background-color: white;padding-right: 0.2em;padding-left: 0.2em;position: relative;}#sk-container-id-6 div.sk-item {position: relative;z-index: 1;}#sk-container-id-6 div.sk-parallel {display: flex;align-items: stretch;justify-content: center;background-color: white;position: relative;}#sk-container-id-6 div.sk-item::before, #sk-container-id-6 div.sk-parallel-item::before {content: \"\";position: absolute;border-left: 1px solid gray;box-sizing: border-box;top: 0;bottom: 0;left: 50%;z-index: -1;}#sk-container-id-6 div.sk-parallel-item {display: flex;flex-direction: column;z-index: 1;position: relative;background-color: white;}#sk-container-id-6 div.sk-parallel-item:first-child::after {align-self: flex-end;width: 50%;}#sk-container-id-6 div.sk-parallel-item:last-child::after {align-self: flex-start;width: 50%;}#sk-container-id-6 div.sk-parallel-item:only-child::after {width: 0;}#sk-container-id-6 div.sk-dashed-wrapped {border: 1px dashed gray;margin: 0 0.4em 0.5em 0.4em;box-sizing: border-box;padding-bottom: 0.4em;background-color: white;}#sk-container-id-6 div.sk-label label {font-family: monospace;font-weight: bold;display: inline-block;line-height: 1.2em;}#sk-container-id-6 div.sk-label-container {text-align: center;}#sk-container-id-6 div.sk-container {/* jupyter's `normalize.less` sets `[hidden] { display: none; }` but bootstrap.min.css set `[hidden] { display: none !important; }` so we also need the `!important` here to be able to override the default hidden behavior on the sphinx rendered scikit-learn.org. See: https://github.com/scikit-learn/scikit-learn/issues/21755 */display: inline-block !important;position: relative;}#sk-container-id-6 div.sk-text-repr-fallback {display: none;}</style><div id=\"sk-container-id-6\" class=\"sk-top-container\"><div class=\"sk-text-repr-fallback\"><pre>BernoulliNB(alpha=1e-10)</pre><b>In a Jupyter environment, please rerun this cell to show the HTML representation or trust the notebook. <br />On GitHub, the HTML representation is unable to render, please try loading this page with nbviewer.org.</b></div><div class=\"sk-container\" hidden><div class=\"sk-item\"><div class=\"sk-estimator sk-toggleable\"><input class=\"sk-toggleable__control sk-hidden--visually\" id=\"sk-estimator-id-6\" type=\"checkbox\" checked><label for=\"sk-estimator-id-6\" class=\"sk-toggleable__label sk-toggleable__label-arrow\">BernoulliNB</label><div class=\"sk-toggleable__content\"><pre>BernoulliNB(alpha=1e-10)</pre></div></div></div></div></div>"
      ],
      "text/plain": [
       "BernoulliNB(alpha=1e-10)"
      ]
     },
     "execution_count": 101,
     "metadata": {},
     "output_type": "execute_result"
    }
   ],
   "source": [
    "nb_clf = BernoulliNB(alpha=1.0e-10)\n",
    "nb_clf.fit(X_train_large, y_train_large)\n"
   ]
  },
  {
   "cell_type": "code",
   "execution_count": 102,
   "id": "78404861",
   "metadata": {},
   "outputs": [],
   "source": [
    "X_test_large = vectorizer.transform(X_test_large)\n"
   ]
  },
  {
   "cell_type": "code",
   "execution_count": 103,
   "id": "d6599c50",
   "metadata": {},
   "outputs": [],
   "source": [
    "y_pred_large = nb_clf.predict(X_test_large)\n"
   ]
  },
  {
   "cell_type": "code",
   "execution_count": 104,
   "id": "f0cb4325",
   "metadata": {},
   "outputs": [
    {
     "name": "stdout",
     "output_type": "stream",
     "text": [
      "F1 score: 0.969\n"
     ]
    }
   ],
   "source": [
    "print('F1 score: {:.3f}'.format(f1_score(y_test_large, y_pred_large, pos_label='ham')))\n"
   ]
  },
  {
   "cell_type": "markdown",
   "id": "449b75ab",
   "metadata": {},
   "source": [
    "## 6. Graphical Representation of the Decision Boundary\n",
    "\n",
    "Finally, let’s add some visuals to understand how the Naive Bayes classifier decides between classes. We use a simplified dataset for this visualization, focusing on two features from the Iris dataset."
   ]
  },
  {
   "cell_type": "code",
   "execution_count": 105,
   "id": "60f833bb",
   "metadata": {},
   "outputs": [],
   "source": [
    "from matplotlib import pyplot as plt\n",
    "from matplotlib import colors\n",
    "import matplotlib.gridspec as gridspec\n",
    "import numpy as np\n",
    "\n",
    "def plot_decision_boundary(X, y, clf):\n",
    "    mins = X.min(axis=0) - 0.5\n",
    "    maxs = X.max(axis=0) + 0.5  \n",
    "\n",
    "    xx, yy = np.meshgrid(np.linspace(mins[0], maxs[0], 71),\n",
    "                         np.linspace(mins[1], maxs[1], 81))\n",
    "    Z = clf.predict_proba(np.c_[xx.ravel(), yy.ravel()])\n",
    "    Z = Z[:, 1].reshape(xx.shape)\n",
    "    \n",
    "    gs = gridspec.GridSpec(1, 2)\n",
    "    gs.update(hspace=0.8)\n",
    "    \n",
    "    ax = plt.subplot(gs[0])\n",
    "    ax.contourf(xx, yy, Z, cmap=\"RdBu\", alpha=0.5)\n",
    "    ax.plot(X[:, 0][y==1], X[:, 1][y==1], 'r.')\n",
    "    ax.plot(X[:, 0][y==0], X[:, 1][y==0], 'b.')\n",
    "    ax.set_title('Decision Probability')\n",
    "\n",
    "    ax = plt.subplot(gs[1])\n",
    "    ax.contour(xx, yy, Z, [0.5], colors='k')\n",
    "    ax.plot(X[:, 0][y==1], X[:, 1][y==1], 'r.')\n",
    "    ax.plot(X[:, 0][y==0], X[:, 1][y==0], 'b.')\n",
    "    ax.set_title('Decision Boundary')\n"
   ]
  },
  {
   "cell_type": "code",
   "execution_count": 106,
   "id": "1ae553ca",
   "metadata": {},
   "outputs": [],
   "source": [
    "# Generate a simple dataset\n",
    "from sklearn import datasets\n",
    "\n",
    "iris = datasets.load_iris()\n",
    "X_iris = iris[\"data\"][:, (2, 3)]  # petal length, petal width\n",
    "y_iris = (iris[\"target\"] == 2).astype(np.int64)\n"
   ]
  },
  {
   "cell_type": "code",
   "execution_count": 107,
   "id": "2c9139bc",
   "metadata": {},
   "outputs": [
    {
     "data": {
      "image/png": "[encoded data removed]",
      "text/plain": [
       "<Figure size 1200x600 with 1 Axes>"
      ]
     },
     "metadata": {},
     "output_type": "display_data"
    }
   ],
   "source": [
    "# Graphical representation of the generated dataset\n",
    "plt.figure(figsize=(12, 6))\n",
    "plt.scatter(X_iris[:,0][y_iris == 0], X_iris[:,1][y_iris == 0], c=\"b\", marker=\".\", label=\"Not Iris-Virginica\")\n",
    "plt.scatter(X_iris[:,0][y_iris == 1], X_iris[:,1][y_iris == 1], c=\"r\", marker=\".\", label=\"Iris-Virginica\")\n",
    "plt.xlabel('Petal length')\n",
    "plt.ylabel('Petal width')\n",
    "plt.legend()\n",
    "plt.show()\n"
   ]
  },
  {
   "cell_type": "code",
   "execution_count": 108,
   "id": "a88a6d55",
   "metadata": {},
   "outputs": [
    {
     "data": {
      "text/html": [
       "<style>#sk-container-id-7 {color: black;}#sk-container-id-7 pre{padding: 0;}#sk-container-id-7 div.sk-toggleable {background-color: white;}#sk-container-id-7 label.sk-toggleable__label {cursor: pointer;display: block;width: 100%;margin-bottom: 0;padding: 0.3em;box-sizing: border-box;text-align: center;}#sk-container-id-7 label.sk-toggleable__label-arrow:before {content: \"▸\";float: left;margin-right: 0.25em;color: #696969;}#sk-container-id-7 label.sk-toggleable__label-arrow:hover:before {color: black;}#sk-container-id-7 div.sk-estimator:hover label.sk-toggleable__label-arrow:before {color: black;}#sk-container-id-7 div.sk-toggleable__content {max-height: 0;max-width: 0;overflow: hidden;text-align: left;background-color: #f0f8ff;}#sk-container-id-7 div.sk-toggleable__content pre {margin: 0.2em;color: black;border-radius: 0.25em;background-color: #f0f8ff;}#sk-container-id-7 input.sk-toggleable__control:checked~div.sk-toggleable__content {max-height: 200px;max-width: 100%;overflow: auto;}#sk-container-id-7 input.sk-toggleable__control:checked~label.sk-toggleable__label-arrow:before {content: \"▾\";}#sk-container-id-7 div.sk-estimator input.sk-toggleable__control:checked~label.sk-toggleable__label {background-color: #d4ebff;}#sk-container-id-7 div.sk-label input.sk-toggleable__control:checked~label.sk-toggleable__label {background-color: #d4ebff;}#sk-container-id-7 input.sk-hidden--visually {border: 0;clip: rect(1px 1px 1px 1px);clip: rect(1px, 1px, 1px, 1px);height: 1px;margin: -1px;overflow: hidden;padding: 0;position: absolute;width: 1px;}#sk-container-id-7 div.sk-estimator {font-family: monospace;background-color: #f0f8ff;border: 1px dotted black;border-radius: 0.25em;box-sizing: border-box;margin-bottom: 0.5em;}#sk-container-id-7 div.sk-estimator:hover {background-color: #d4ebff;}#sk-container-id-7 div.sk-parallel-item::after {content: \"\";width: 100%;border-bottom: 1px solid gray;flex-grow: 1;}#sk-container-id-7 div.sk-label:hover label.sk-toggleable__label {background-color: #d4ebff;}#sk-container-id-7 div.sk-serial::before {content: \"\";position: absolute;border-left: 1px solid gray;box-sizing: border-box;top: 0;bottom: 0;left: 50%;z-index: 0;}#sk-container-id-7 div.sk-serial {display: flex;flex-direction: column;align-items: center;background-color: white;padding-right: 0.2em;padding-left: 0.2em;position: relative;}#sk-container-id-7 div.sk-item {position: relative;z-index: 1;}#sk-container-id-7 div.sk-parallel {display: flex;align-items: stretch;justify-content: center;background-color: white;position: relative;}#sk-container-id-7 div.sk-item::before, #sk-container-id-7 div.sk-parallel-item::before {content: \"\";position: absolute;border-left: 1px solid gray;box-sizing: border-box;top: 0;bottom: 0;left: 50%;z-index: -1;}#sk-container-id-7 div.sk-parallel-item {display: flex;flex-direction: column;z-index: 1;position: relative;background-color: white;}#sk-container-id-7 div.sk-parallel-item:first-child::after {align-self: flex-end;width: 50%;}#sk-container-id-7 div.sk-parallel-item:last-child::after {align-self: flex-start;width: 50%;}#sk-container-id-7 div.sk-parallel-item:only-child::after {width: 0;}#sk-container-id-7 div.sk-dashed-wrapped {border: 1px dashed gray;margin: 0 0.4em 0.5em 0.4em;box-sizing: border-box;padding-bottom: 0.4em;background-color: white;}#sk-container-id-7 div.sk-label label {font-family: monospace;font-weight: bold;display: inline-block;line-height: 1.2em;}#sk-container-id-7 div.sk-label-container {text-align: center;}#sk-container-id-7 div.sk-container {/* jupyter's `normalize.less` sets `[hidden] { display: none; }` but bootstrap.min.css set `[hidden] { display: none !important; }` so we also need the `!important` here to be able to override the default hidden behavior on the sphinx rendered scikit-learn.org. See: https://github.com/scikit-learn/scikit-learn/issues/21755 */display: inline-block !important;position: relative;}#sk-container-id-7 div.sk-text-repr-fallback {display: none;}</style><div id=\"sk-container-id-7\" class=\"sk-top-container\"><div class=\"sk-text-repr-fallback\"><pre>GaussianNB()</pre><b>In a Jupyter environment, please rerun this cell to show the HTML representation or trust the notebook. <br />On GitHub, the HTML representation is unable to render, please try loading this page with nbviewer.org.</b></div><div class=\"sk-container\" hidden><div class=\"sk-item\"><div class=\"sk-estimator sk-toggleable\"><input class=\"sk-toggleable__control sk-hidden--visually\" id=\"sk-estimator-id-7\" type=\"checkbox\" checked><label for=\"sk-estimator-id-7\" class=\"sk-toggleable__label sk-toggleable__label-arrow\">GaussianNB</label><div class=\"sk-toggleable__content\"><pre>GaussianNB()</pre></div></div></div></div></div>"
      ],
      "text/plain": [
       "GaussianNB()"
      ]
     },
     "execution_count": 108,
     "metadata": {},
     "output_type": "execute_result"
    }
   ],
   "source": [
    "# Train a Gaussian Naive Bayes\n",
    "from sklearn.naive_bayes import GaussianNB\n",
    "\n",
    "clf_nb = GaussianNB()\n",
    "clf_nb.fit(X_iris, y_iris)\n"
   ]
  },
  {
   "cell_type": "code",
   "execution_count": 109,
   "id": "6498a839",
   "metadata": {},
   "outputs": [
    {
     "data": {
      "image/png": "[encoded data removed]",
      "text/plain": [
       "<Figure size 1600x500 with 2 Axes>"
      ]
     },
     "metadata": {},
     "output_type": "display_data"
    }
   ],
   "source": [
    "# Decision boundary of Naive Bayes\n",
    "plt.figure(figsize=(16, 5))\n",
    "plot_decision_boundary(X_iris, y_iris, clf_nb)\n",
    "plt.show()\n"
   ]
  },
  {
   "cell_type": "code",
   "execution_count": 110,
   "id": "427c52cc",
   "metadata": {},
   "outputs": [
    {
     "data": {
      "image/png": "[encoded data removed]",
      "text/plain": [
       "<Figure size 1600x500 with 2 Axes>"
      ]
     },
     "metadata": {},
     "output_type": "display_data"
    }
   ],
   "source": [
    "# Decision boundary of Logistic Regression\n",
    "from sklearn.linear_model import LogisticRegression\n",
    "\n",
    "clf_lr = LogisticRegression()\n",
    "clf_lr.fit(X_iris, y_iris)\n",
    "\n",
    "plt.figure(figsize=(16,5))\n",
    "plot_decision_boundary(X_iris, y_iris, clf_lr)\n",
    "plt.show()\n"
   ]
  },
  {
   "cell_type": "markdown",
   "id": "215ca08c",
   "metadata": {},
   "source": [
    "## 7. Conclusion\n",
    "\n",
    "The Naive Bayes Spam Detection project focused on building a reliable spam classifier using the 2007 TREC Public Spam Corpus, which contains over 75,000 emails. The model achieved an impressive F1 score of 0.969, showing it can effectively balance precision and recall—meaning it’s good at catching spam without too many false alarms.\n",
    "\n",
    "Key steps like tokenization, HTML stripping, and vectorization were critical for preparing the email data for the Naive Bayes classifier. By processing a large dataset, the model proved it’s not just accurate, but also scalable and resilient enough for real-world spam filtering. This makes it a powerful tool for any organization looking to manage large volumes of email data with ease and precision."
   ]
  }
 ],
 "metadata": {
  "kernelspec": {
   "display_name": "Python 3 (ipykernel)",
   "language": "python",
   "name": "python3"
  },
  "language_info": {
   "codemirror_mode": {
    "name": "ipython",
    "version": 3
   },
   "file_extension": ".py",
   "mimetype": "text/x-python",
   "name": "python",
   "nbconvert_exporter": "python",
   "pygments_lexer": "ipython3",
   "version": "3.11.5"
  }
 },
 "nbformat": 4,
 "nbformat_minor": 5
}
